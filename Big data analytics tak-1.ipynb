{
 "cells": [
  {
   "cell_type": "code",
   "execution_count": 1,
   "id": "3e02aa40-9565-41cd-bcbb-cc24a517a7d1",
   "metadata": {},
   "outputs": [
    {
     "name": "stdout",
     "output_type": "stream",
     "text": [
      "Requirement already satisfied: dask[complete] in c:\\users\\chiri\\anaconda3\\lib\\site-packages (2024.8.2)\n",
      "Requirement already satisfied: click>=8.1 in c:\\users\\chiri\\anaconda3\\lib\\site-packages (from dask[complete]) (8.1.7)\n",
      "Requirement already satisfied: cloudpickle>=3.0.0 in c:\\users\\chiri\\anaconda3\\lib\\site-packages (from dask[complete]) (3.0.0)\n",
      "Requirement already satisfied: fsspec>=2021.09.0 in c:\\users\\chiri\\anaconda3\\lib\\site-packages (from dask[complete]) (2024.6.1)\n",
      "Requirement already satisfied: packaging>=20.0 in c:\\users\\chiri\\anaconda3\\lib\\site-packages (from dask[complete]) (24.1)\n",
      "Requirement already satisfied: partd>=1.4.0 in c:\\users\\chiri\\anaconda3\\lib\\site-packages (from dask[complete]) (1.4.1)\n",
      "Requirement already satisfied: pyyaml>=5.3.1 in c:\\users\\chiri\\anaconda3\\lib\\site-packages (from dask[complete]) (6.0.1)\n",
      "Requirement already satisfied: toolz>=0.10.0 in c:\\users\\chiri\\anaconda3\\lib\\site-packages (from dask[complete]) (0.12.0)\n",
      "Requirement already satisfied: pyarrow>=14.0.1 in c:\\users\\chiri\\anaconda3\\lib\\site-packages (from dask[complete]) (16.1.0)\n",
      "Requirement already satisfied: lz4>=4.3.2 in c:\\users\\chiri\\anaconda3\\lib\\site-packages (from dask[complete]) (4.3.2)\n",
      "Requirement already satisfied: colorama in c:\\users\\chiri\\anaconda3\\lib\\site-packages (from click>=8.1->dask[complete]) (0.4.6)\n",
      "Requirement already satisfied: locket in c:\\users\\chiri\\anaconda3\\lib\\site-packages (from partd>=1.4.0->dask[complete]) (1.0.0)\n",
      "Requirement already satisfied: numpy>=1.16.6 in c:\\users\\chiri\\anaconda3\\lib\\site-packages (from pyarrow>=14.0.1->dask[complete]) (1.26.4)\n",
      "Requirement already satisfied: pandas>=2.0 in c:\\users\\chiri\\anaconda3\\lib\\site-packages (from dask[complete]) (2.2.2)\n",
      "Requirement already satisfied: dask-expr<1.2,>=1.1 in c:\\users\\chiri\\anaconda3\\lib\\site-packages (from dask[complete]) (1.1.13)\n",
      "Requirement already satisfied: bokeh>=2.4.2 in c:\\users\\chiri\\anaconda3\\lib\\site-packages (from dask[complete]) (3.6.0)\n",
      "Requirement already satisfied: jinja2>=2.10.3 in c:\\users\\chiri\\anaconda3\\lib\\site-packages (from dask[complete]) (3.1.4)\n",
      "Requirement already satisfied: distributed==2024.8.2 in c:\\users\\chiri\\anaconda3\\lib\\site-packages (from dask[complete]) (2024.8.2)\n",
      "Requirement already satisfied: msgpack>=1.0.2 in c:\\users\\chiri\\anaconda3\\lib\\site-packages (from distributed==2024.8.2->dask[complete]) (1.0.3)\n",
      "Requirement already satisfied: psutil>=5.8.0 in c:\\users\\chiri\\anaconda3\\lib\\site-packages (from distributed==2024.8.2->dask[complete]) (5.9.0)\n",
      "Requirement already satisfied: sortedcontainers>=2.0.5 in c:\\users\\chiri\\anaconda3\\lib\\site-packages (from distributed==2024.8.2->dask[complete]) (2.4.0)\n",
      "Requirement already satisfied: tblib>=1.6.0 in c:\\users\\chiri\\anaconda3\\lib\\site-packages (from distributed==2024.8.2->dask[complete]) (1.7.0)\n",
      "Requirement already satisfied: tornado>=6.2.0 in c:\\users\\chiri\\anaconda3\\lib\\site-packages (from distributed==2024.8.2->dask[complete]) (6.4.1)\n",
      "Requirement already satisfied: urllib3>=1.26.5 in c:\\users\\chiri\\anaconda3\\lib\\site-packages (from distributed==2024.8.2->dask[complete]) (2.2.3)\n",
      "Requirement already satisfied: zict>=3.0.0 in c:\\users\\chiri\\anaconda3\\lib\\site-packages (from distributed==2024.8.2->dask[complete]) (3.0.0)\n",
      "Requirement already satisfied: contourpy>=1.2 in c:\\users\\chiri\\anaconda3\\lib\\site-packages (from bokeh>=2.4.2->dask[complete]) (1.2.0)\n",
      "Requirement already satisfied: pillow>=7.1.0 in c:\\users\\chiri\\anaconda3\\lib\\site-packages (from bokeh>=2.4.2->dask[complete]) (10.4.0)\n",
      "Requirement already satisfied: xyzservices>=2021.09.1 in c:\\users\\chiri\\anaconda3\\lib\\site-packages (from bokeh>=2.4.2->dask[complete]) (2022.9.0)\n",
      "Requirement already satisfied: MarkupSafe>=2.0 in c:\\users\\chiri\\anaconda3\\lib\\site-packages (from jinja2>=2.10.3->dask[complete]) (2.1.3)\n",
      "Requirement already satisfied: python-dateutil>=2.8.2 in c:\\users\\chiri\\anaconda3\\lib\\site-packages (from pandas>=2.0->dask[complete]) (2.9.0.post0)\n",
      "Requirement already satisfied: pytz>=2020.1 in c:\\users\\chiri\\anaconda3\\lib\\site-packages (from pandas>=2.0->dask[complete]) (2024.1)\n",
      "Requirement already satisfied: tzdata>=2022.7 in c:\\users\\chiri\\anaconda3\\lib\\site-packages (from pandas>=2.0->dask[complete]) (2023.3)\n",
      "Requirement already satisfied: six>=1.5 in c:\\users\\chiri\\anaconda3\\lib\\site-packages (from python-dateutil>=2.8.2->pandas>=2.0->dask[complete]) (1.16.0)\n",
      "Note: you may need to restart the kernel to use updated packages.\n"
     ]
    }
   ],
   "source": [
    "pip install \"dask[complete]\""
   ]
  },
  {
   "cell_type": "code",
   "execution_count": 11,
   "id": "d59faa19-fa1c-4ea8-9f29-82da99f7d698",
   "metadata": {},
   "outputs": [
    {
     "name": "stdout",
     "output_type": "stream",
     "text": [
      "   Product_ID   Sale_Date Sales_Rep Region  Sales_Amount  Quantity_Sold  \\\n",
      "0        1052  2023-02-03       Bob  North       5053.97             18   \n",
      "1        1093  2023-04-21       Bob   West       4384.02             17   \n",
      "2        1015  2023-09-21     David  South       4631.23             30   \n",
      "3        1072  2023-08-24       Bob  South       2167.94             39   \n",
      "4        1061  2023-03-24   Charlie   East       3750.20             13   \n",
      "\n",
      "  Product_Category  Unit_Cost  Unit_Price Customer_Type  Discount  \\\n",
      "0        Furniture     152.75      267.22     Returning      0.09   \n",
      "1        Furniture    3816.39     4209.44     Returning      0.11   \n",
      "2             Food     261.56      371.40     Returning      0.20   \n",
      "3         Clothing    4330.03     4467.75           New      0.02   \n",
      "4      Electronics     637.37      692.71           New      0.08   \n",
      "\n",
      "  Payment_Method Sales_Channel Region_and_Sales_Rep  \n",
      "0           Cash        Online            North-Bob  \n",
      "1           Cash        Retail             West-Bob  \n",
      "2  Bank Transfer        Retail          South-David  \n",
      "3    Credit Card        Retail            South-Bob  \n",
      "4    Credit Card        Online         East-Charlie  \n"
     ]
    }
   ],
   "source": [
    "import dask.dataframe as dd\n",
    "ddf = dd.read_csv('C:/Users/chiri/Downloads/sales_data.csv')\n",
    "print(ddf.head())"
   ]
  },
  {
   "cell_type": "code",
   "execution_count": 15,
   "id": "0ae1f07a-df07-4105-b358-963073bf9589",
   "metadata": {},
   "outputs": [
    {
     "name": "stdout",
     "output_type": "stream",
     "text": [
      "Region\n",
      "East     1259792.93\n",
      "North    1369612.51\n",
      "South    1154250.86\n",
      "West     1235608.93\n",
      "Name: Sales_Amount, dtype: float64\n"
     ]
    }
   ],
   "source": [
    "import dask.dataframe as dd\n",
    "\n",
    "ddf = dd.read_csv('C:/Users/chiri/Downloads/sales_data.csv')\n",
    "\n",
    "# Group the data by the 'Region' column and calculate the sum of 'Sales'.\n",
    "# The .compute() method triggers the calculation.\n",
    "sales_by_region = ddf.groupby('Region')['Sales_Amount'].sum().compute()\n",
    "\n",
    "# Print the resulting sales data grouped by region.\n",
    "print(sales_by_region)"
   ]
  },
  {
   "cell_type": "code",
   "execution_count": null,
   "id": "181fc601-25bf-4408-b114-a8e71c4fdb19",
   "metadata": {},
   "outputs": [],
   "source": []
  }
 ],
 "metadata": {
  "kernelspec": {
   "display_name": "Python [conda env:base] *",
   "language": "python",
   "name": "conda-base-py"
  },
  "language_info": {
   "codemirror_mode": {
    "name": "ipython",
    "version": 3
   },
   "file_extension": ".py",
   "mimetype": "text/x-python",
   "name": "python",
   "nbconvert_exporter": "python",
   "pygments_lexer": "ipython3",
   "version": "3.12.7"
  }
 },
 "nbformat": 4,
 "nbformat_minor": 5
}
